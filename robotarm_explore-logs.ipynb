{
 "metadata": {
  "name": "",
  "signature": "sha256:fb3c9c31e41f6fce846dd65099f1855818a85232442869d94e96c6eadb26d83b"
 },
 "nbformat": 3,
 "nbformat_minor": 0,
 "worksheets": [
  {
   "cells": [
    {
     "cell_type": "code",
     "collapsed": false,
     "input": [
      "from robotarm import *\n",
      "from scipy.integrate import odeint\n",
      "from numpy import zeros, array, linspace, ones, deg2rad\n",
      "from pydy.viz.shapes import Cylinder, Sphere\n",
      "import pydy.viz\n",
      "from pydy.viz.visualization_frame import VisualizationFrame\n",
      "from pydy.viz.scene import Scene\n",
      "from tools import load_trjs_file, extract_all_complete_trjs"
     ],
     "language": "python",
     "metadata": {},
     "outputs": [],
     "prompt_number": 1
    },
    {
     "cell_type": "code",
     "collapsed": false,
     "input": [
      "robot_arm = RobotArmBase()\n",
      "symbolics = robot_arm.symbolics(forward_gen=True)\n",
      "constants_dict = dict(symbolics.items() + symbolics['dyn_full']().items())\n",
      "mass = constants_dict['mass']\n",
      "forcing = constants_dict['forcing']\n",
      "coords = constants_dict['coords']\n",
      "speeds = constants_dict['speeds']\n",
      "controls = constants_dict['controls']\n",
      "right_hand_side = constants_dict['right_hand_side']\n",
      "W = constants_dict['W']"
     ],
     "language": "python",
     "metadata": {},
     "outputs": [],
     "prompt_number": 2
    },
    {
     "cell_type": "code",
     "collapsed": false,
     "input": [
      "trjs = load_trjs_file('__main__.RobotArmEffector_log')\n",
      "plts = extract_all_complete_trjs(trjs)  \n",
      "compilation_plts = np.vstack(plts)"
     ],
     "language": "python",
     "metadata": {},
     "outputs": [],
     "prompt_number": 7
    },
    {
     "cell_type": "code",
     "collapsed": false,
     "input": [
      "t = compilation_plts[:, :1].flatten()\n",
      "y = compilation_plts[:, 1:]\n",
      "print \"Number of runs: \" + str(len(plts))\n",
      "t.shape, y.shape"
     ],
     "language": "python",
     "metadata": {},
     "outputs": [
      {
       "output_type": "stream",
       "stream": "stdout",
       "text": [
        "Number of runs: 4\n"
       ]
      },
      {
       "metadata": {},
       "output_type": "pyout",
       "prompt_number": 8,
       "text": [
        "((178,), (178, 9))"
       ]
      }
     ],
     "prompt_number": 8
    },
    {
     "cell_type": "code",
     "collapsed": false,
     "input": [
      "end_effector_shape = Sphere(color='black', radius=0.1)\n",
      "end_effector_viz_frame = VisualizationFrame(W, constants_dict['point3'], end_effector_shape)\n",
      "joint2_shape = Sphere(color='black', radius=0.1)\n",
      "joint2_viz_frame = VisualizationFrame(W, constants_dict['point2'], joint2_shape)\n",
      "\n",
      "link1_center_frame = constants_dict['link1_center_frame']\n",
      "link1_frame_y_aligned = link1_center_frame.orientnew('link1_frame_y_aligned', 'Axis', [-pi / 2, link1_center_frame.z])\n",
      "\n",
      "link2_center_frame = constants_dict['link2_center_frame']\n",
      "link2_frame_y_aligned = link2_center_frame.orientnew('link2_frame_y_aligned', 'Axis', [-pi / 2, link2_center_frame.z])\n",
      "\n",
      "link1_shape = Cylinder(radius=constants_dict['r1'], length=constants_dict['h1'], color='blue')\n",
      "link1_viz_frame = VisualizationFrame('Link 1', link1_frame_y_aligned, constants_dict['link1_center'], link1_shape)\n",
      "link2_shape = Cylinder(radius=constants_dict['r2'], length=constants_dict['h2'], color='blue')\n",
      "link2_viz_frame = VisualizationFrame('Link 2', link2_frame_y_aligned, constants_dict['link2_center'], link2_shape)\n",
      "\n",
      "world_y_aligned_frame = W.orientnew('world_y_aligned_frame', 'Axis', [pi / 2, W.x])\n",
      "\n",
      "scene = Scene(world_y_aligned_frame, constants_dict['og'])\n",
      "scene.visualization_frames = [end_effector_viz_frame,\n",
      "                              joint2_viz_frame,\n",
      "                              link1_viz_frame,\n",
      "                              link2_viz_frame\n",
      "                              ]\n",
      "scene.generate_visualization_json(coords + speeds, [], y[:, :6], [])"
     ],
     "language": "python",
     "metadata": {},
     "outputs": [],
     "prompt_number": 9
    },
    {
     "cell_type": "code",
     "collapsed": false,
     "input": [
      "scene.display()"
     ],
     "language": "python",
     "metadata": {},
     "outputs": [
      {
       "output_type": "stream",
       "stream": "stdout",
       "text": [
        "Starting job # 0 in a separate thread.\n",
        "server started successfully, on port: 8001\n",
        "\n",
        "        Your visualization is being rendered at\n",
        "        http://localhost:8001/\n",
        "        Opening the visualization in new tab...\n"
       ]
      }
     ],
     "prompt_number": 10
    },
    {
     "cell_type": "code",
     "collapsed": false,
     "input": [],
     "language": "python",
     "metadata": {},
     "outputs": [],
     "prompt_number": 10
    },
    {
     "cell_type": "code",
     "collapsed": false,
     "input": [],
     "language": "python",
     "metadata": {},
     "outputs": []
    }
   ],
   "metadata": {}
  }
 ]
}