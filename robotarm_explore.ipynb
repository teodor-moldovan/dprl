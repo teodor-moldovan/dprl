{
 "metadata": {
  "name": "",
  "signature": "sha256:fcd56f6f9e90375e32888e1dbb826975f9dde477553c6ef4cd4508366fd05cc2"
 },
 "nbformat": 3,
 "nbformat_minor": 0,
 "worksheets": [
  {
   "cells": [
    {
     "cell_type": "code",
     "collapsed": false,
     "input": [
      "from robotarm import *\n",
      "from sympy.physics.vector import init_vprinting\n",
      "init_vprinting()\n",
      "from scipy.integrate import odeint\n",
      "from numpy import zeros, array, linspace, ones, deg2rad\n",
      "from pydy.viz.shapes import Cylinder, Sphere\n",
      "import pydy.viz\n",
      "from pydy.viz.visualization_frame import VisualizationFrame\n",
      "from pydy.viz.scene import Scene"
     ],
     "language": "python",
     "metadata": {},
     "outputs": [],
     "prompt_number": 1
    },
    {
     "cell_type": "code",
     "collapsed": false,
     "input": [
      "robot_arm = RobotArmBase()\n",
      "symbolics = robot_arm.symbolics(forward_gen=True)\n",
      "constants_dict = dict(symbolics.items() + symbolics['dyn_full']().items())\n",
      "mass = constants_dict['mass']\n",
      "forcing = constants_dict['forcing']\n",
      "coords = constants_dict['coords']\n",
      "speeds = constants_dict['speeds']\n",
      "controls = constants_dict['controls']\n",
      "right_hand_side = constants_dict['right_hand_side']\n",
      "W = constants_dict['W']"
     ],
     "language": "python",
     "metadata": {},
     "outputs": [],
     "prompt_number": 2
    },
    {
     "cell_type": "code",
     "collapsed": false,
     "input": [
      "x0 = zeros(6)\n",
      "x0[1] = deg2rad(-89)\n",
      "numerical_specified = zeros(3)\n",
      "numerical_specified[0] = 0.00\n",
      "\n",
      "args = {'constants': array([]),\n",
      "        'specified': numerical_specified}\n",
      "\n",
      "frames_per_sec = 60\n",
      "final_time = 5.0\n",
      "\n",
      "t = linspace(0.0, final_time, final_time * frames_per_sec)"
     ],
     "language": "python",
     "metadata": {},
     "outputs": [],
     "prompt_number": 3
    },
    {
     "cell_type": "code",
     "collapsed": false,
     "input": [
      "y = odeint(right_hand_side, x0, t, args=(args,))\n",
      "y, y.shape"
     ],
     "language": "python",
     "metadata": {},
     "outputs": [
      {
       "metadata": {},
       "output_type": "pyout",
       "prompt_number": 6,
       "text": [
        "(array([[  0.00000000e+00,  -1.55334303e+00,   0.00000000e+00,\n",
        "           0.00000000e+00,   0.00000000e+00,   0.00000000e+00],\n",
        "        [  0.00000000e+00,  -1.55330304e+00,  -6.97527944e-05,\n",
        "           0.00000000e+00,   4.79072691e-03,  -8.36357854e-03],\n",
        "        [  0.00000000e+00,  -1.55318234e+00,  -2.81158987e-04,\n",
        "           0.00000000e+00,   9.66530094e-03,  -1.69844985e-02],\n",
        "        ..., \n",
        "        [  0.00000000e+00,   1.31532960e+01,  -2.01655290e+01,\n",
        "           0.00000000e+00,   6.30923105e+00,  -7.54893471e+00],\n",
        "        [  0.00000000e+00,   1.32590848e+01,  -2.02801711e+01,\n",
        "           0.00000000e+00,   6.35281045e+00,  -6.16683703e+00],\n",
        "        [  0.00000000e+00,   1.33659801e+01,  -2.03717305e+01,\n",
        "           0.00000000e+00,   6.43501564e+00,  -4.77732922e+00]]), (300, 6))"
       ]
      }
     ],
     "prompt_number": 6
    },
    {
     "cell_type": "code",
     "collapsed": false,
     "input": [
      "end_effector_shape = Sphere(color='black', radius=0.1)\n",
      "end_effector_viz_frame = VisualizationFrame(W, constants_dict['point3'], end_effector_shape)\n",
      "joint2_shape = Sphere(color='black', radius=0.1)\n",
      "joint2_viz_frame = VisualizationFrame(W, constants_dict['point2'], joint2_shape)\n",
      "\n",
      "link1_center_frame = constants_dict['link1_center_frame']\n",
      "link1_frame_y_aligned = link1_center_frame.orientnew('link1_frame_y_aligned', 'Axis', [-pi / 2, link1_center_frame.z])\n",
      "\n",
      "link2_center_frame = constants_dict['link2_center_frame']\n",
      "link2_frame_y_aligned = link2_center_frame.orientnew('link2_frame_y_aligned', 'Axis', [-pi / 2, link2_center_frame.z])\n",
      "\n",
      "link1_shape = Cylinder(radius=constants_dict['r1'], length=constants_dict['h1'], color='blue')\n",
      "link1_viz_frame = VisualizationFrame('Link 1', link1_frame_y_aligned, constants_dict['link1_center'], link1_shape)\n",
      "link2_shape = Cylinder(radius=constants_dict['r2'], length=constants_dict['h2'], color='blue')\n",
      "link2_viz_frame = VisualizationFrame('Link 2', link2_frame_y_aligned, constants_dict['link2_center'], link2_shape)\n",
      "\n",
      "world_y_aligned_frame = W.orientnew('world_y_aligned_frame', 'Axis', [pi / 2, W.x])\n",
      "\n",
      "scene = Scene(world_y_aligned_frame, constants_dict['og'])\n",
      "scene.visualization_frames = [end_effector_viz_frame,\n",
      "                              joint2_viz_frame,\n",
      "                              link1_viz_frame,\n",
      "                              link2_viz_frame\n",
      "                              ]\n",
      "scene.generate_visualization_json(coords + speeds, [], y, [])"
     ],
     "language": "python",
     "metadata": {},
     "outputs": [],
     "prompt_number": 13
    },
    {
     "cell_type": "code",
     "collapsed": false,
     "input": [],
     "language": "python",
     "metadata": {},
     "outputs": []
    },
    {
     "cell_type": "code",
     "collapsed": false,
     "input": [
      "scene.display()"
     ],
     "language": "python",
     "metadata": {},
     "outputs": [
      {
       "output_type": "stream",
       "stream": "stdout",
       "text": [
        "Starting job # 0 in a separate thread.\n",
        "server started successfully, on port: 8002\n",
        "\n",
        "        Your visualization is being rendered at\n",
        "        http://localhost:8002/\n",
        "        Opening the visualization in new tab...\n"
       ]
      }
     ],
     "prompt_number": 14
    },
    {
     "cell_type": "code",
     "collapsed": false,
     "input": [],
     "language": "python",
     "metadata": {},
     "outputs": [],
     "prompt_number": 6
    }
   ],
   "metadata": {}
  }
 ]
}