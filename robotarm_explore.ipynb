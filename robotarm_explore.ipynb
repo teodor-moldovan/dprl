{
 "metadata": {
  "name": "",
  "signature": "sha256:e18876920ad9890e210a0fc9dd59fe63c792150f46283a8931340f2da38ab6c1"
 },
 "nbformat": 3,
 "nbformat_minor": 0,
 "worksheets": [
  {
   "cells": [
    {
     "cell_type": "code",
     "collapsed": false,
     "input": [
      "import sympy \n",
      "from sympy import sin, cos, diag,log,exp, sqrt\n",
      "from sympy import Matrix as mat\n",
      "from sympy.physics.mechanics import *\n",
      "from IPython import embed\n",
      "from math import pi\n",
      "\n",
      "mechanics_printing(pretty_print=False)\n",
      "\n",
      "state  = (t0,  t1,  t2)  = dynamicsymbols(\"\"\"\n",
      "                 t0, t1, t2,\n",
      "          \"\"\") \n",
      "\n",
      "dstate = (t0d, t1d, t2d) = dynamicsymbols(\"\"\"\n",
      "                   t0, t1, t2,\n",
      "                \"\"\", 1)\n",
      "\n",
      "controls = (u0, u1, u2) = dynamicsymbols('u0, u1, u2')\n",
      "\n",
      "symbols = dstate + state + controls\n",
      "\n",
      "g = 9.81\n",
      "m1, m2 = 1.0, 3.0\n",
      "r1, r2 = 0.5, 0.75\n",
      "h1, h2 = 3.0, 5.25\n",
      "\n",
      "\n",
      "W = ReferenceFrame('WorldFrame')\n",
      "og = Point('origin')\n",
      "\n",
      "#frame0 = W.orientnew('frame0',           'Axis', [0.0, W.z])\n",
      "frame1inter = W.orientnew('frame1inter', 'Axis', [t0, W.z])\n",
      "frame1 = frame1inter.orientnew('frame1',           'Axis', [pi / 2, frame1inter.x])\n",
      "frame2 = frame1.orientnew('frame2',           'Axis', [t1, frame1.z])\n",
      "frame3 = frame2.orientnew('frame3',           'Axis', [t2, frame2.z])\n",
      "\n",
      "\n",
      "point0 = og.locatenew('point0', 0.0)\n",
      "point1 = point0.locatenew('point1', 0.0)\n",
      "point2 = point1.locatenew('point2', h1 * frame2.x)\n",
      "point3 = point2.locatenew('point3', h2 * frame3.x)\n",
      " \n",
      "\n",
      "    \n",
      "def cylinder(mass, radius, height, index=None):\n",
      "    \"\"\"\n",
      "    computes symbolics for a cylinder.\n",
      "   returns a frame and point at the center of a\n",
      "   cylinder with x and y in the circle plane and z in-\n",
      "  the upward direction\n",
      "  returns\n",
      "  (center_frame, center_point, inertia_tensor)\n",
      "   index changes the index in the name of the variables\n",
      "   \"\"\"\n",
      "    if index is None:\n",
      "        i = \"\"\n",
      "    else:\n",
      "        i = str(index)\n",
      "    \n",
      "    F = ReferenceFrame('CenterFrame' + i)\n",
      "    c = Point('cm' + i)\n",
      "    Ix = 1.0 / 12 * mass * (3 * radius**2 + height**2)\n",
      "    Iy = Ix\n",
      "    Iz = 0.5 * mass * radius**2 \n",
      "    I = inertia(F, Ix, Iy, Iz)\n",
      "    return F, c, I\n",
      "\n",
      "\n",
      "link1_center_frame, link1_center, link1_inertia = \\\n",
      "    cylinder(m1, r1, h1, index=1)\n",
      "\n",
      "link2_center_frame, link2_center, link2_inertia = \\\n",
      "    cylinder(m2, r2, h2, index=2) \n",
      "\n",
      "link1_center_frame.orient(frame2, 'Axis', [0.0, frame2.z])\n",
      "link2_center_frame.orient(frame3, 'Axis', [0.0, frame3.z])\n",
      "\n",
      "link1_center.set_pos(point1, h1 / 2.0 * frame2.x)\n",
      "link1_center.set_vel(frame2, 0.0 * frame2.x)\n",
      "link2_center.set_pos(point2, h2 / 2.0 * frame3.x)\n",
      "link2_center.set_vel(frame3, 0.0 * frame3.x)"
     ],
     "language": "python",
     "metadata": {},
     "outputs": [],
     "prompt_number": 9
    },
    {
     "cell_type": "code",
     "collapsed": false,
     "input": [
      "link2_center_frame.ang_vel_in()"
     ],
     "language": "python",
     "metadata": {},
     "outputs": [
      {
       "ename": "TypeError",
       "evalue": "ang_vel_in() takes exactly 2 arguments (1 given)",
       "output_type": "pyerr",
       "traceback": [
        "\u001b[1;31m---------------------------------------------------------------------------\u001b[0m\n\u001b[1;31mTypeError\u001b[0m                                 Traceback (most recent call last)",
        "\u001b[1;32m<ipython-input-19-fe86d8009af7>\u001b[0m in \u001b[0;36m<module>\u001b[1;34m()\u001b[0m\n\u001b[1;32m----> 1\u001b[1;33m \u001b[0mlink2_center_frame\u001b[0m\u001b[1;33m.\u001b[0m\u001b[0mang_vel_in\u001b[0m\u001b[1;33m(\u001b[0m\u001b[1;33m)\u001b[0m\u001b[1;33m\u001b[0m\u001b[0m\n\u001b[0m",
        "\u001b[1;31mTypeError\u001b[0m: ang_vel_in() takes exactly 2 arguments (1 given)"
       ]
      }
     ],
     "prompt_number": 19
    },
    {
     "cell_type": "code",
     "collapsed": false,
     "input": [
      "v =link2_center.vel(frame3)"
     ],
     "language": "python",
     "metadata": {},
     "outputs": [],
     "prompt_number": 16
    },
    {
     "cell_type": "code",
     "collapsed": false,
     "input": [
      "v.express(W)"
     ],
     "language": "python",
     "metadata": {},
     "outputs": [
      {
       "metadata": {},
       "output_type": "pyout",
       "prompt_number": 17,
       "text": [
        "0"
       ]
      }
     ],
     "prompt_number": 17
    },
    {
     "cell_type": "code",
     "collapsed": false,
     "input": [
      "W.dcm(frame1), point3.pos_from(og)"
     ],
     "language": "python",
     "metadata": {},
     "outputs": [
      {
       "metadata": {},
       "output_type": "pyout",
       "prompt_number": 41,
       "text": [
        "(Matrix([\n",
        "[cos(t0), -6.12323399573677e-17*sin(t0),          1.0*sin(t0)],\n",
        "[sin(t0),  6.12323399573677e-17*cos(t0),         -1.0*cos(t0)],\n",
        "[      0,                           1.0, 6.12323399573677e-17]]), 5.25000000000000*frame3.x + 3.00000000000000*frame2.x)"
       ]
      }
     ],
     "prompt_number": 41
    },
    {
     "cell_type": "code",
     "collapsed": false,
     "input": [
      "mprint(link2_center_frame.dcm(W))"
     ],
     "language": "python",
     "metadata": {},
     "outputs": [
      {
       "output_type": "stream",
       "stream": "stdout",
       "text": [
        "Matrix([\n",
        "[  (-sin(t1)*sin(t2) + cos(t1)*cos(t2))*cos(t0) - (6.12323399573677e-17*sin(t1)*cos(t2) + 6.12323399573677e-17*sin(t2)*cos(t1))*sin(t0),  (-sin(t1)*sin(t2) + cos(t1)*cos(t2))*sin(t0) + (6.12323399573677e-17*sin(t1)*cos(t2) + 6.12323399573677e-17*sin(t2)*cos(t1))*cos(t0),  1.0*sin(t1)*cos(t2) + 1.0*sin(t2)*cos(t1)],\n",
        "[-(-6.12323399573677e-17*sin(t1)*sin(t2) + 6.12323399573677e-17*cos(t1)*cos(t2))*sin(t0) + (-sin(t1)*cos(t2) - sin(t2)*cos(t1))*cos(t0), (-6.12323399573677e-17*sin(t1)*sin(t2) + 6.12323399573677e-17*cos(t1)*cos(t2))*cos(t0) + (-sin(t1)*cos(t2) - sin(t2)*cos(t1))*sin(t0), -1.0*sin(t1)*sin(t2) + 1.0*cos(t1)*cos(t2)],\n",
        "[                                                                                                                           1.0*sin(t0),                                                                                                                          -1.0*cos(t0),                       6.12323399573677e-17]])\n"
       ]
      }
     ],
     "prompt_number": 3
    },
    {
     "cell_type": "code",
     "collapsed": false,
     "input": [],
     "language": "python",
     "metadata": {},
     "outputs": []
    }
   ],
   "metadata": {}
  }
 ]
}