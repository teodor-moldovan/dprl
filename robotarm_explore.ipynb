{
 "metadata": {
  "name": "",
  "signature": "sha256:68122881aadc1680cb6b96b0ce04dbdd532694301b61bf9b8878a16865383439"
 },
 "nbformat": 3,
 "nbformat_minor": 0,
 "worksheets": [
  {
   "cells": [
    {
     "cell_type": "code",
     "collapsed": false,
     "input": [
      "from robotarm import *\n",
      "from sympy.physics.vector import init_vprinting\n",
      "init_vprinting()\n",
      "from scipy.integrate import odeint\n",
      "from numpy import zeros, array, linspace, ones, deg2rad\n",
      "from pydy.viz.shapes import Cylinder, Sphere\n",
      "import pydy.viz\n",
      "from pydy.viz.visualization_frame import VisualizationFrame\n",
      "from pydy.viz.scene import Scene"
     ],
     "language": "python",
     "metadata": {},
     "outputs": [],
     "prompt_number": 1
    },
    {
     "cell_type": "code",
     "collapsed": false,
     "input": [
      "robot_arm = RobotArmBase()\n",
      "symbolics = robot_arm.symbolics(forward_gen=True)\n",
      "constants_dict = dict(symbolics.items() + symbolics['dyn_full']().items())\n",
      "mass = constants_dict['mass']\n",
      "forcing = constants_dict['forcing']\n",
      "coords = constants_dict['coords']\n",
      "speeds = constants_dict['speeds']\n",
      "controls = constants_dict['controls']\n",
      "right_hand_side = constants_dict['right_hand_side']\n",
      "W = constants_dict['W']"
     ],
     "language": "python",
     "metadata": {},
     "outputs": [],
     "prompt_number": 3
    },
    {
     "cell_type": "code",
     "collapsed": false,
     "input": [
      "x0 = zeros(6)\n",
      "x0[1] = deg2rad(-89)\n",
      "numerical_specified = zeros(3)\n",
      "numerical_specified[0] = 3.0\n",
      "\n",
      "args = {'constants': array([]),\n",
      "        'specified': numerical_specified}\n",
      "\n",
      "frames_per_sec = 60\n",
      "final_time = 5.0\n",
      "\n",
      "t = linspace(0.0, final_time, final_time * frames_per_sec)"
     ],
     "language": "python",
     "metadata": {},
     "outputs": [],
     "prompt_number": 9
    },
    {
     "cell_type": "code",
     "collapsed": false,
     "input": [
      "y = odeint(right_hand_side, x0, t, args=(args,))"
     ],
     "language": "python",
     "metadata": {},
     "outputs": [],
     "prompt_number": 10
    },
    {
     "cell_type": "code",
     "collapsed": false,
     "input": [
      "\n",
      "\n",
      "end_effector_shape = Sphere(color='black', radius=0.5)\n",
      "end_effector_viz_frame = VisualizationFrame(W, constants_dict['point3'], end_effector_shape)\n",
      "joint2_shape = Sphere(color='black', radius=0.5)\n",
      "joint2_viz_frame = VisualizationFrame(W, constants_dict['point2'], joint2_shape)\n",
      "\n",
      "link1_center_frame = constants_dict['link1_center_frame']\n",
      "link1_frame_y_aligned = link1_center_frame.orientnew('link1_frame_y_aligned', 'Axis', [-pi / 2, link1_center_frame.z])\n",
      "\n",
      "link2_center_frame = constants_dict['link2_center_frame']\n",
      "link2_frame_y_aligned = link2_center_frame.orientnew('link2_frame_y_aligned', 'Axis', [-pi / 2, link2_center_frame.z])\n",
      "\n",
      "link1_shape = Cylinder(radius=constants_dict['r1'], length=constants_dict['h1'], color='blue')\n",
      "link1_viz_frame = VisualizationFrame('Link 1', link1_frame_y_aligned, constants_dict['link1_center'], link1_shape)\n",
      "link2_shape = Cylinder(radius=constants_dict['r2'], length=constants_dict['h2'], color='blue')\n",
      "link2_viz_frame = VisualizationFrame('Link 2', link2_frame_y_aligned, constants_dict['link2_center'], link2_shape)\n",
      "\n",
      "world_y_aligned_frame = W.orientnew('world_y_aligned_frame', 'Axis', [pi / 2, W.x])\n",
      "\n",
      "scene = Scene(world_y_aligned_frame, constants_dict['og'])\n",
      "scene.visualization_frames = [end_effector_viz_frame,\n",
      "                              joint2_viz_frame,\n",
      "                              link1_viz_frame,\n",
      "                              link2_viz_frame\n",
      "                              ]\n",
      "scene.generate_visualization_json(coords + speeds, [], y, [])"
     ],
     "language": "python",
     "metadata": {},
     "outputs": [],
     "prompt_number": 11
    },
    {
     "cell_type": "code",
     "collapsed": false,
     "input": [
      "scene.display()"
     ],
     "language": "python",
     "metadata": {},
     "outputs": [
      {
       "output_type": "stream",
       "stream": "stdout",
       "text": [
        "Starting job # 0 in a separate thread.\n",
        "server started successfully, on port: 8002\n",
        "\n",
        "        Your visualization is being rendered at\n",
        "        http://localhost:8002/\n",
        "        Opening the visualization in new tab...\n"
       ]
      }
     ],
     "prompt_number": 12
    },
    {
     "cell_type": "code",
     "collapsed": false,
     "input": [],
     "language": "python",
     "metadata": {},
     "outputs": []
    }
   ],
   "metadata": {}
  }
 ]
}